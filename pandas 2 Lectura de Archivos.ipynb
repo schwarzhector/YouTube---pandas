{
  "cells": [
    {
      "cell_type": "markdown",
      "source": [
        "### Código utilizado en el video:\n",
        "https://youtu.be/kmGp0otLy44"
      ],
      "metadata": {
        "id": "lKxmQpQqQsBC"
      },
      "id": "lKxmQpQqQsBC"
    },
    {
      "cell_type": "markdown",
      "id": "5a7d594a-676b-4176-86c9-ccd4cb92bfbc",
      "metadata": {
        "id": "5a7d594a-676b-4176-86c9-ccd4cb92bfbc"
      },
      "source": [
        "# <center>Lectura de Archivos</center>"
      ]
    },
    {
      "cell_type": "markdown",
      "id": "22347e52-6f2e-4a58-8df1-dc970a71096c",
      "metadata": {
        "id": "22347e52-6f2e-4a58-8df1-dc970a71096c"
      },
      "source": [
        "Documentación Oficial:<br>\n",
        "    https://pandas.pydata.org/docs/reference/io.html"
      ]
    },
    {
      "cell_type": "code",
      "execution_count": null,
      "id": "9ce84af9-2dc6-478c-8df9-30342dab3644",
      "metadata": {
        "tags": [],
        "id": "9ce84af9-2dc6-478c-8df9-30342dab3644"
      },
      "outputs": [],
      "source": [
        "import pandas as pd"
      ]
    },
    {
      "cell_type": "markdown",
      "id": "2555109e-b227-45e4-b131-b09dc24ffc72",
      "metadata": {
        "tags": [],
        "id": "2555109e-b227-45e4-b131-b09dc24ffc72"
      },
      "source": [
        "# Archivos CSV"
      ]
    },
    {
      "cell_type": "code",
      "execution_count": null,
      "id": "e74a3014-69e3-44ac-ae38-d97fbcc453da",
      "metadata": {
        "tags": [],
        "id": "e74a3014-69e3-44ac-ae38-d97fbcc453da",
        "outputId": "da07542c-16d1-44c1-d6e0-e5369d0b31e7"
      },
      "outputs": [
        {
          "name": "stdout",
          "output_type": "stream",
          "text": [
            "           Date          Open          High           Low         Close  \\\n",
            "0    2021-07-10  33811.242188  34209.070313  33116.011719  33520.519531   \n",
            "1    2021-07-11  33509.078125  34584.703125  33346.738281  34240.187500   \n",
            "2    2021-07-12  34254.015625  34592.156250  32697.308594  33155.847656   \n",
            "3    2021-07-13  33125.468750  33327.101563  32261.419922  32702.025391   \n",
            "4    2021-07-14  32723.845703  33061.398438  31639.125000  32822.347656   \n",
            "..          ...           ...           ...           ...           ...   \n",
            "361  2022-07-06  20194.619141  20595.529297  19823.511719  20548.246094   \n",
            "362  2022-07-07  20547.814453  21771.816406  20296.103516  21637.587891   \n",
            "363  2022-07-08  21637.154297  22314.941406  21257.453125  21731.117188   \n",
            "364  2022-07-09  21716.828125  21877.138672  21445.957031  21592.207031   \n",
            "365  2022-07-10  21589.587891  21589.587891  20749.443359  20898.460938   \n",
            "\n",
            "        Adj Close       Volume  \n",
            "0    33520.519531  22971873468  \n",
            "1    34240.187500  20108729370  \n",
            "2    33155.847656  24321499537  \n",
            "3    32702.025391  19120856669  \n",
            "4    32822.347656  21376531210  \n",
            "..            ...          ...  \n",
            "361  20548.246094  24598943708  \n",
            "362  21637.587891  25814972520  \n",
            "363  21731.117188  49899834488  \n",
            "364  21592.207031  29641127858  \n",
            "365  20898.460938  28434771968  \n",
            "\n",
            "[366 rows x 7 columns]\n"
          ]
        }
      ],
      "source": [
        "dataframe1 = pd.read_csv('BTC-USD.csv')\n",
        "print(dataframe1)"
      ]
    },
    {
      "cell_type": "code",
      "execution_count": null,
      "id": "b0a9953e-8bd8-4088-b289-fd1726d76b3d",
      "metadata": {
        "id": "b0a9953e-8bd8-4088-b289-fd1726d76b3d",
        "outputId": "d0cfff6a-cc12-4a11-9383-33e2aa12bbf4"
      },
      "outputs": [
        {
          "name": "stdout",
          "output_type": "stream",
          "text": [
            "<class 'pandas.core.frame.DataFrame'>\n"
          ]
        }
      ],
      "source": [
        "print(type(dataframe1))"
      ]
    },
    {
      "cell_type": "code",
      "execution_count": null,
      "id": "f11ebad4-f3e7-4bfc-ab35-c71ba364361f",
      "metadata": {
        "id": "f11ebad4-f3e7-4bfc-ab35-c71ba364361f",
        "outputId": "12c6c939-c35f-4014-eccc-1dec83932dcc"
      },
      "outputs": [
        {
          "name": "stdout",
          "output_type": "stream",
          "text": [
            "           Date         Close       Volume\n",
            "0    2021-07-10  33520.519531  22971873468\n",
            "1    2021-07-11  34240.187500  20108729370\n",
            "2    2021-07-12  33155.847656  24321499537\n",
            "3    2021-07-13  32702.025391  19120856669\n",
            "4    2021-07-14  32822.347656  21376531210\n",
            "..          ...           ...          ...\n",
            "361  2022-07-06  20548.246094  24598943708\n",
            "362  2022-07-07  21637.587891  25814972520\n",
            "363  2022-07-08  21731.117188  49899834488\n",
            "364  2022-07-09  21592.207031  29641127858\n",
            "365  2022-07-10  20898.460938  28434771968\n",
            "\n",
            "[366 rows x 3 columns]\n"
          ]
        }
      ],
      "source": [
        "dataframe1 = pd.read_csv('BTC-USD.csv',usecols = ['Date','Close','Volume'])\n",
        "print(dataframe1)"
      ]
    },
    {
      "cell_type": "code",
      "execution_count": null,
      "id": "10539a4b-d1e0-4a7f-97d5-d4608a13cf94",
      "metadata": {
        "id": "10539a4b-d1e0-4a7f-97d5-d4608a13cf94",
        "outputId": "41042960-d883-48ac-d735-17b6ac4baa64"
      },
      "outputs": [
        {
          "name": "stdout",
          "output_type": "stream",
          "text": [
            "                   Close       Volume\n",
            "Date                                 \n",
            "2021-07-10  33520.519531  22971873468\n",
            "2021-07-11  34240.187500  20108729370\n",
            "2021-07-12  33155.847656  24321499537\n",
            "2021-07-13  32702.025391  19120856669\n",
            "2021-07-14  32822.347656  21376531210\n",
            "...                  ...          ...\n",
            "2022-07-06  20548.246094  24598943708\n",
            "2022-07-07  21637.587891  25814972520\n",
            "2022-07-08  21731.117188  49899834488\n",
            "2022-07-09  21592.207031  29641127858\n",
            "2022-07-10  20898.460938  28434771968\n",
            "\n",
            "[366 rows x 2 columns]\n"
          ]
        }
      ],
      "source": [
        "dataframe1 = pd.read_csv('BTC-USD.csv',usecols = ['Date','Close','Volume'], index_col='Date')\n",
        "print(dataframe1)"
      ]
    },
    {
      "cell_type": "markdown",
      "id": "bffa390b-068f-4941-9eca-1ff31ce7f1a6",
      "metadata": {
        "id": "bffa390b-068f-4941-9eca-1ff31ce7f1a6"
      },
      "source": [
        "# Archivos de Excel"
      ]
    },
    {
      "cell_type": "code",
      "execution_count": null,
      "id": "06f379d1-651a-406b-b1d0-75efd07ff1be",
      "metadata": {
        "id": "06f379d1-651a-406b-b1d0-75efd07ff1be",
        "outputId": "2c5523ee-ea4a-4c3b-b91b-bc97654ac909"
      },
      "outputs": [
        {
          "name": "stdout",
          "output_type": "stream",
          "text": [
            "    Unnamed: 0                        Gross domestic product 2021  Unnamed: 2  \\\n",
            "0          NaN                                                NaN         NaN   \n",
            "1          NaN                                                NaN         NaN   \n",
            "2          NaN                                            Ranking         NaN   \n",
            "3          NaN                                                NaN         NaN   \n",
            "4          USA                                                  1         NaN   \n",
            "..         ...                                                ...         ...   \n",
            "239        NaN  .. Not available.  \\nNote: Rankings include on...         NaN   \n",
            "240        NaN                                                NaN         NaN   \n",
            "241        NaN                                                NaN         NaN   \n",
            "242        NaN  GDP data source: http://data.worldbank.org/dat...         NaN   \n",
            "243        NaN  GDP projections:  http://data.worldbank.org/da...         NaN   \n",
            "\n",
            "        Unnamed: 3    Unnamed: 4 Unnamed: 5  \n",
            "0              NaN           NaN        NaN  \n",
            "1              NaN  (millions of        NaN  \n",
            "2          Economy   US dollars)        NaN  \n",
            "3              NaN           NaN        NaN  \n",
            "4    United States      22996100        NaN  \n",
            "..             ...           ...        ...  \n",
            "239            NaN           NaN        NaN  \n",
            "240            NaN           NaN        NaN  \n",
            "241            NaN           NaN        NaN  \n",
            "242            NaN           NaN        NaN  \n",
            "243            NaN           NaN        NaN  \n",
            "\n",
            "[244 rows x 6 columns]\n"
          ]
        }
      ],
      "source": [
        "dataframe2 = pd.read_excel('https://databank.worldbank.org/data/download/GDP.xls')\n",
        "print(dataframe2)"
      ]
    },
    {
      "cell_type": "code",
      "execution_count": null,
      "id": "ff1735b5-ff07-4edd-8782-a4885391e770",
      "metadata": {
        "id": "ff1735b5-ff07-4edd-8782-a4885391e770",
        "outputId": "252d8b7a-79f7-4316-f000-e28468ede007"
      },
      "outputs": [
        {
          "name": "stdout",
          "output_type": "stream",
          "text": [
            "    Unnamed: 0                                            Ranking  Unnamed: 2  \\\n",
            "0          NaN                                                NaN         NaN   \n",
            "1          USA                                                  1         NaN   \n",
            "2          CHN                                                  2         NaN   \n",
            "3          JPN                                                  3         NaN   \n",
            "4          DEU                                                  4         NaN   \n",
            "..         ...                                                ...         ...   \n",
            "236        NaN  .. Not available.  \\nNote: Rankings include on...         NaN   \n",
            "237        NaN                                                NaN         NaN   \n",
            "238        NaN                                                NaN         NaN   \n",
            "239        NaN  GDP data source: http://data.worldbank.org/dat...         NaN   \n",
            "240        NaN  GDP projections:  http://data.worldbank.org/da...         NaN   \n",
            "\n",
            "           Economy   US dollars) Unnamed: 5  \n",
            "0              NaN           NaN        NaN  \n",
            "1    United States  2.299610e+07        NaN  \n",
            "2            China  1.773406e+07        NaN  \n",
            "3            Japan  4.937422e+06        NaN  \n",
            "4          Germany  4.223116e+06        NaN  \n",
            "..             ...           ...        ...  \n",
            "236            NaN           NaN        NaN  \n",
            "237            NaN           NaN        NaN  \n",
            "238            NaN           NaN        NaN  \n",
            "239            NaN           NaN        NaN  \n",
            "240            NaN           NaN        NaN  \n",
            "\n",
            "[241 rows x 6 columns]\n"
          ]
        }
      ],
      "source": [
        "dataframe2 = pd.read_excel('https://databank.worldbank.org/data/download/GDP.xls',\n",
        "                           header=3)\n",
        "print(dataframe2)"
      ]
    },
    {
      "cell_type": "code",
      "execution_count": null,
      "id": "ee47c8fb-d3d2-43db-9dd2-d3ce46b85e49",
      "metadata": {
        "id": "ee47c8fb-d3d2-43db-9dd2-d3ce46b85e49",
        "outputId": "e1633d03-5632-44e1-ab24-cb644fab48d2"
      },
      "outputs": [
        {
          "name": "stdout",
          "output_type": "stream",
          "text": [
            "                                               Ranking  Unnamed: 2  \\\n",
            "NaN                                                NaN         NaN   \n",
            "USA                                                  1         NaN   \n",
            "CHN                                                  2         NaN   \n",
            "JPN                                                  3         NaN   \n",
            "DEU                                                  4         NaN   \n",
            "..                                                 ...         ...   \n",
            "NaN  .. Not available.  \\nNote: Rankings include on...         NaN   \n",
            "NaN                                                NaN         NaN   \n",
            "NaN                                                NaN         NaN   \n",
            "NaN  GDP data source: http://data.worldbank.org/dat...         NaN   \n",
            "NaN  GDP projections:  http://data.worldbank.org/da...         NaN   \n",
            "\n",
            "           Economy   US dollars) Unnamed: 5  \n",
            "NaN            NaN           NaN        NaN  \n",
            "USA  United States  2.299610e+07        NaN  \n",
            "CHN          China  1.773406e+07        NaN  \n",
            "JPN          Japan  4.937422e+06        NaN  \n",
            "DEU        Germany  4.223116e+06        NaN  \n",
            "..             ...           ...        ...  \n",
            "NaN            NaN           NaN        NaN  \n",
            "NaN            NaN           NaN        NaN  \n",
            "NaN            NaN           NaN        NaN  \n",
            "NaN            NaN           NaN        NaN  \n",
            "NaN            NaN           NaN        NaN  \n",
            "\n",
            "[241 rows x 5 columns]\n"
          ]
        }
      ],
      "source": [
        "dataframe2 = pd.read_excel('https://databank.worldbank.org/data/download/GDP.xls',\n",
        "                           header=3,\n",
        "                          index_col=0)\n",
        "print(dataframe2)"
      ]
    },
    {
      "cell_type": "code",
      "execution_count": null,
      "id": "9840b130-3a0b-4c8f-8e50-af1e87404a93",
      "metadata": {
        "id": "9840b130-3a0b-4c8f-8e50-af1e87404a93",
        "outputId": "75af4be7-d78a-4780-bc9b-a93c6f95f6af"
      },
      "outputs": [
        {
          "name": "stdout",
          "output_type": "stream",
          "text": [
            "                                               Ranking        Economy  \\\n",
            "NaN                                                NaN            NaN   \n",
            "USA                                                  1  United States   \n",
            "CHN                                                  2          China   \n",
            "JPN                                                  3          Japan   \n",
            "DEU                                                  4        Germany   \n",
            "..                                                 ...            ...   \n",
            "NaN  .. Not available.  \\nNote: Rankings include on...            NaN   \n",
            "NaN                                                NaN            NaN   \n",
            "NaN                                                NaN            NaN   \n",
            "NaN  GDP data source: http://data.worldbank.org/dat...            NaN   \n",
            "NaN  GDP projections:  http://data.worldbank.org/da...            NaN   \n",
            "\n",
            "      US dollars)  \n",
            "NaN           NaN  \n",
            "USA  2.299610e+07  \n",
            "CHN  1.773406e+07  \n",
            "JPN  4.937422e+06  \n",
            "DEU  4.223116e+06  \n",
            "..            ...  \n",
            "NaN           NaN  \n",
            "NaN           NaN  \n",
            "NaN           NaN  \n",
            "NaN           NaN  \n",
            "NaN           NaN  \n",
            "\n",
            "[241 rows x 3 columns]\n"
          ]
        }
      ],
      "source": [
        "dataframe2 = pd.read_excel('https://databank.worldbank.org/data/download/GDP.xls',\n",
        "                           header=3,\n",
        "                          index_col=0,\n",
        "                          usecols=[0,1,3,4])\n",
        "print(dataframe2)"
      ]
    },
    {
      "cell_type": "code",
      "execution_count": null,
      "id": "f1559679-9eea-449d-a1fe-4cb707eaec5e",
      "metadata": {
        "id": "f1559679-9eea-449d-a1fe-4cb707eaec5e",
        "outputId": "2482d32e-a7f1-4fa7-b8b8-15181b69e784"
      },
      "outputs": [
        {
          "name": "stdout",
          "output_type": "stream",
          "text": [
            "     Ranking                    Economy   US dollars)\n",
            "NaN      NaN                        NaN           NaN\n",
            "USA      1.0              United States  2.299610e+07\n",
            "CHN      2.0                      China  1.773406e+07\n",
            "JPN      3.0                      Japan  4.937422e+06\n",
            "DEU      4.0                    Germany  4.223116e+06\n",
            "..       ...                        ...           ...\n",
            "SXM      NaN  Sint Maarten (Dutch part)  0.000000e+00\n",
            "SSD      NaN                South Sudan  0.000000e+00\n",
            "MAF      NaN   St. Martin (French part)  0.000000e+00\n",
            "SYR      NaN       Syrian Arab Republic  0.000000e+00\n",
            "VEN      NaN              Venezuela, RB  0.000000e+00\n",
            "\n",
            "[218 rows x 3 columns]\n"
          ]
        }
      ],
      "source": [
        "dataframe2 = pd.read_excel('https://databank.worldbank.org/data/download/GDP.xls',\n",
        "                          header=3,\n",
        "                          index_col=0,\n",
        "                          usecols=[0,1,3,4],\n",
        "                          nrows=218)\n",
        "print(dataframe2)"
      ]
    },
    {
      "cell_type": "code",
      "execution_count": null,
      "id": "e701ab28-0841-47b0-9fdd-540dc35fb3d6",
      "metadata": {
        "id": "e701ab28-0841-47b0-9fdd-540dc35fb3d6",
        "outputId": "36de4b7c-bd3e-417c-e265-b6453499b117"
      },
      "outputs": [
        {
          "name": "stdout",
          "output_type": "stream",
          "text": [
            "     Ranking                   Economy   US dollars)\n",
            "USA      1.0             United States  2.299610e+07\n",
            "CHN      2.0                     China  1.773406e+07\n",
            "JPN      3.0                     Japan  4.937422e+06\n",
            "DEU      4.0                   Germany  4.223116e+06\n",
            "GBR      5.0            United Kingdom  3.186860e+06\n",
            "..       ...                       ...           ...\n",
            "SSD      NaN               South Sudan  0.000000e+00\n",
            "MAF      NaN  St. Martin (French part)  0.000000e+00\n",
            "SYR      NaN      Syrian Arab Republic  0.000000e+00\n",
            "VEN      NaN             Venezuela, RB  0.000000e+00\n",
            "NaN      NaN                       NaN           NaN\n",
            "\n",
            "[218 rows x 3 columns]\n"
          ]
        }
      ],
      "source": [
        "dataframe2 = pd.read_excel('https://databank.worldbank.org/data/download/GDP.xls',                        \n",
        "                            skiprows=[0,1,2,4],\n",
        "                            index_col=0,\n",
        "                            usecols=[0,1,3,4],\n",
        "                            nrows=218,\n",
        "                          )\n",
        "print(dataframe2)"
      ]
    },
    {
      "cell_type": "markdown",
      "id": "c2be4235-8253-4cb4-91c9-f8fc5af82997",
      "metadata": {
        "id": "c2be4235-8253-4cb4-91c9-f8fc5af82997"
      },
      "source": [
        "# Portapapeles"
      ]
    },
    {
      "cell_type": "code",
      "execution_count": null,
      "id": "5a91ee3a-93a2-4438-beec-5c6b24a8fda8",
      "metadata": {
        "id": "5a91ee3a-93a2-4438-beec-5c6b24a8fda8",
        "outputId": "942b0515-1ade-40da-ae8e-ff55be06a12d"
      },
      "outputs": [
        {
          "name": "stdout",
          "output_type": "stream",
          "text": [
            "     NOMBRE         CARRERA   AÑO\n",
            "0   Luciana      Ingeniería  2021\n",
            "1  Santiago           RR II  2013\n",
            "2     Paola         Turismo  2014\n",
            "3    Carlos        Abogacía  2022\n",
            "4  Jonathan        Medicina  2018\n",
            "5  Gabriela  Administración  2019\n",
            "6  Ezequiel        Contador  2017\n"
          ]
        }
      ],
      "source": [
        "dataframe3 = pd.read_clipboard()\n",
        "print(dataframe3)"
      ]
    },
    {
      "cell_type": "code",
      "execution_count": null,
      "id": "61055b68-d9db-40ab-a3bd-623543fb4c1a",
      "metadata": {
        "id": "61055b68-d9db-40ab-a3bd-623543fb4c1a"
      },
      "outputs": [],
      "source": [
        ""
      ]
    }
  ],
  "metadata": {
    "kernelspec": {
      "display_name": "Python 3 (ipykernel)",
      "language": "python",
      "name": "python3"
    },
    "language_info": {
      "codemirror_mode": {
        "name": "ipython",
        "version": 3
      },
      "file_extension": ".py",
      "mimetype": "text/x-python",
      "name": "python",
      "nbconvert_exporter": "python",
      "pygments_lexer": "ipython3",
      "version": "3.9.7"
    },
    "colab": {
      "name": "pandas 2 Lectura de Archivos.ipynb",
      "provenance": []
    }
  },
  "nbformat": 4,
  "nbformat_minor": 5
}