{
  "cells": [
    {
      "cell_type": "markdown",
      "source": [
        "### Código utilizado en el video:\n",
        "https://youtu.be/k4c_pk9xoW8"
      ],
      "metadata": {
        "id": "q8ZWvuKqQs2D"
      },
      "id": "q8ZWvuKqQs2D"
    },
    {
      "cell_type": "markdown",
      "id": "ee2a4324-68da-4d14-bc8c-d3e73ac86630",
      "metadata": {
        "id": "ee2a4324-68da-4d14-bc8c-d3e73ac86630"
      },
      "source": [
        "# read_html()"
      ]
    },
    {
      "cell_type": "code",
      "execution_count": null,
      "id": "f0a4aff0-fa03-4a43-bc45-f37af6c1003b",
      "metadata": {
        "id": "f0a4aff0-fa03-4a43-bc45-f37af6c1003b"
      },
      "outputs": [],
      "source": [
        "import pandas as pd"
      ]
    },
    {
      "cell_type": "code",
      "execution_count": null,
      "id": "9d1dff80-1b80-4258-829d-5d44092812cb",
      "metadata": {
        "id": "9d1dff80-1b80-4258-829d-5d44092812cb"
      },
      "outputs": [],
      "source": [
        "url = 'https://es.wikipedia.org/wiki/Anexo:Finalistas_de_la_Liga_de_Campeones_de_la_UEFA'\n",
        "tablas_html = pd.read_html(url)"
      ]
    },
    {
      "cell_type": "code",
      "execution_count": null,
      "id": "25a341cd-c8ed-498f-9478-aa572d195a63",
      "metadata": {
        "id": "25a341cd-c8ed-498f-9478-aa572d195a63",
        "outputId": "1c99c560-1643-47ef-ccc7-d78d023dba3b"
      },
      "outputs": [
        {
          "name": "stdout",
          "output_type": "stream",
          "text": [
            "<class 'list'>\n"
          ]
        }
      ],
      "source": [
        "print(type(tablas_html))"
      ]
    },
    {
      "cell_type": "code",
      "execution_count": null,
      "id": "db573d2b-865f-4d6f-8004-5c2def1e0690",
      "metadata": {
        "id": "db573d2b-865f-4d6f-8004-5c2def1e0690",
        "outputId": "f581801b-0da2-431f-a52c-b7c432137809"
      },
      "outputs": [
        {
          "name": "stdout",
          "output_type": "stream",
          "text": [
            "3\n"
          ]
        }
      ],
      "source": [
        "print(len(tablas_html))"
      ]
    },
    {
      "cell_type": "code",
      "execution_count": null,
      "id": "ca0a6411-6942-465a-ad89-a19bc4dcfcf9",
      "metadata": {
        "id": "ca0a6411-6942-465a-ad89-a19bc4dcfcf9",
        "outputId": "e6f43749-70c7-4501-d15d-a7642d2623d5"
      },
      "outputs": [
        {
          "name": "stdout",
          "output_type": "stream",
          "text": [
            "<class 'pandas.core.frame.DataFrame'>\n"
          ]
        }
      ],
      "source": [
        "print(type(tablas_html[0]))"
      ]
    },
    {
      "cell_type": "code",
      "execution_count": null,
      "id": "2e316385-70ff-4bf3-8715-080c7e691f82",
      "metadata": {
        "id": "2e316385-70ff-4bf3-8715-080c7e691f82",
        "outputId": "dd4eb72f-0e0f-489d-962a-ce3f6eec3db3"
      },
      "outputs": [
        {
          "data": {
            "text/html": [
              "<div>\n",
              "<style scoped>\n",
              "    .dataframe tbody tr th:only-of-type {\n",
              "        vertical-align: middle;\n",
              "    }\n",
              "\n",
              "    .dataframe tbody tr th {\n",
              "        vertical-align: top;\n",
              "    }\n",
              "\n",
              "    .dataframe thead th {\n",
              "        text-align: right;\n",
              "    }\n",
              "</style>\n",
              "<table border=\"1\" class=\"dataframe\">\n",
              "  <thead>\n",
              "    <tr style=\"text-align: right;\">\n",
              "      <th></th>\n",
              "      <th>Temporada</th>\n",
              "      <th>Campeón</th>\n",
              "      <th>Resultado</th>\n",
              "      <th>Subcampeón</th>\n",
              "      <th>Sede Final</th>\n",
              "    </tr>\n",
              "  </thead>\n",
              "  <tbody>\n",
              "    <tr>\n",
              "      <th>0</th>\n",
              "      <td>1955-56Detalles</td>\n",
              "      <td>Real Madrid C. F. GolesDi Stéfano 14'Rial 30' ...</td>\n",
              "      <td>4–3</td>\n",
              "      <td>Stade de Reims GolesLeblond 6'Templin 10'Hidal...</td>\n",
              "      <td>Parque de los Príncipes,París, Francia</td>\n",
              "    </tr>\n",
              "    <tr>\n",
              "      <th>1</th>\n",
              "      <td>1956-57Detalles</td>\n",
              "      <td>Real Madrid C. F. GolesDi Stéfano 70' Gento 76'</td>\n",
              "      <td>2–0</td>\n",
              "      <td>A. C. F. Fiorentina</td>\n",
              "      <td>Santiago Bernabéu,Madrid, España</td>\n",
              "    </tr>\n",
              "    <tr>\n",
              "      <th>2</th>\n",
              "      <td>1957-58Detalles</td>\n",
              "      <td>Real Madrid C. F. GolesDi Stéfano 74'Rial 79'G...</td>\n",
              "      <td>3–2(pró.)</td>\n",
              "      <td>A. C. Milan GolesSchiaffino 59'Grillo 78'</td>\n",
              "      <td>Estadio de Heysel,Bruselas, Bélgica</td>\n",
              "    </tr>\n",
              "    <tr>\n",
              "      <th>3</th>\n",
              "      <td>1958-59Detalles</td>\n",
              "      <td>Real Madrid C. F. GolesMateos 1'Di Stéfano 47'</td>\n",
              "      <td>2–0</td>\n",
              "      <td>Stade de Reims</td>\n",
              "      <td>Neckarstadion,Stuttgart, Alemania Occidental</td>\n",
              "    </tr>\n",
              "    <tr>\n",
              "      <th>4</th>\n",
              "      <td>1959-60Detalles</td>\n",
              "      <td>Real Madrid C. F. GolesDi Stéfano 27' 30' 73'P...</td>\n",
              "      <td>7–3</td>\n",
              "      <td>Eintracht Frankfurt GolesKreß 18'Stein 72' 75'</td>\n",
              "      <td>Hampden Park,Glasgow, Escocia</td>\n",
              "    </tr>\n",
              "  </tbody>\n",
              "</table>\n",
              "</div>"
            ],
            "text/plain": [
              "         Temporada                                            Campeón  \\\n",
              "0  1955-56Detalles  Real Madrid C. F. GolesDi Stéfano 14'Rial 30' ...   \n",
              "1  1956-57Detalles    Real Madrid C. F. GolesDi Stéfano 70' Gento 76'   \n",
              "2  1957-58Detalles  Real Madrid C. F. GolesDi Stéfano 74'Rial 79'G...   \n",
              "3  1958-59Detalles     Real Madrid C. F. GolesMateos 1'Di Stéfano 47'   \n",
              "4  1959-60Detalles  Real Madrid C. F. GolesDi Stéfano 27' 30' 73'P...   \n",
              "\n",
              "   Resultado                                         Subcampeón  \\\n",
              "0        4–3  Stade de Reims GolesLeblond 6'Templin 10'Hidal...   \n",
              "1        2–0                                A. C. F. Fiorentina   \n",
              "2  3–2(pró.)          A. C. Milan GolesSchiaffino 59'Grillo 78'   \n",
              "3        2–0                                     Stade de Reims   \n",
              "4        7–3     Eintracht Frankfurt GolesKreß 18'Stein 72' 75'   \n",
              "\n",
              "                                     Sede Final  \n",
              "0        Parque de los Príncipes,París, Francia  \n",
              "1              Santiago Bernabéu,Madrid, España  \n",
              "2           Estadio de Heysel,Bruselas, Bélgica  \n",
              "3  Neckarstadion,Stuttgart, Alemania Occidental  \n",
              "4                 Hampden Park,Glasgow, Escocia  "
            ]
          },
          "execution_count": 8,
          "metadata": {},
          "output_type": "execute_result"
        }
      ],
      "source": [
        "tablas_html[0].head()"
      ]
    },
    {
      "cell_type": "code",
      "execution_count": null,
      "id": "e0d55a71-593b-40bf-b02c-8eba6602e1ed",
      "metadata": {
        "id": "e0d55a71-593b-40bf-b02c-8eba6602e1ed",
        "outputId": "d5e4d6c8-d9cd-4ed2-831a-cd56bf121856"
      },
      "outputs": [
        {
          "data": {
            "text/html": [
              "<div>\n",
              "<style scoped>\n",
              "    .dataframe tbody tr th:only-of-type {\n",
              "        vertical-align: middle;\n",
              "    }\n",
              "\n",
              "    .dataframe tbody tr th {\n",
              "        vertical-align: top;\n",
              "    }\n",
              "\n",
              "    .dataframe thead th {\n",
              "        text-align: right;\n",
              "    }\n",
              "</style>\n",
              "<table border=\"1\" class=\"dataframe\">\n",
              "  <thead>\n",
              "    <tr style=\"text-align: right;\">\n",
              "      <th></th>\n",
              "      <th>Ciudades</th>\n",
              "      <th>Finales</th>\n",
              "      <th>Estadios</th>\n",
              "    </tr>\n",
              "  </thead>\n",
              "  <tbody>\n",
              "    <tr>\n",
              "      <th>0</th>\n",
              "      <td>Londres</td>\n",
              "      <td>7</td>\n",
              "      <td>Estadio de Wembley (1923) (5), Estadio de Wemb...</td>\n",
              "    </tr>\n",
              "    <tr>\n",
              "      <th>1</th>\n",
              "      <td>Madrid</td>\n",
              "      <td>5</td>\n",
              "      <td>Estadio Santiago Bernabéu (4), Estadio Metropo...</td>\n",
              "    </tr>\n",
              "    <tr>\n",
              "      <th>2</th>\n",
              "      <td>Bruselas</td>\n",
              "      <td>4</td>\n",
              "      <td>Estadio de Heysel (4)</td>\n",
              "    </tr>\n",
              "    <tr>\n",
              "      <th>3</th>\n",
              "      <td>Viena</td>\n",
              "      <td>4</td>\n",
              "      <td>Estadio Ernst Happel (4)</td>\n",
              "    </tr>\n",
              "    <tr>\n",
              "      <th>4</th>\n",
              "      <td>Roma</td>\n",
              "      <td>4</td>\n",
              "      <td>Estadio Olímpico (4)</td>\n",
              "    </tr>\n",
              "  </tbody>\n",
              "</table>\n",
              "</div>"
            ],
            "text/plain": [
              "   Ciudades  Finales                                           Estadios\n",
              "0   Londres        7  Estadio de Wembley (1923) (5), Estadio de Wemb...\n",
              "1    Madrid        5  Estadio Santiago Bernabéu (4), Estadio Metropo...\n",
              "2  Bruselas        4                              Estadio de Heysel (4)\n",
              "3     Viena        4                           Estadio Ernst Happel (4)\n",
              "4      Roma        4                               Estadio Olímpico (4)"
            ]
          },
          "execution_count": 9,
          "metadata": {},
          "output_type": "execute_result"
        }
      ],
      "source": [
        "tablas_html[1].head()"
      ]
    },
    {
      "cell_type": "code",
      "execution_count": null,
      "id": "4d0117b0-6116-47c8-95c6-60eeb8077962",
      "metadata": {
        "id": "4d0117b0-6116-47c8-95c6-60eeb8077962",
        "outputId": "cd8fe6ab-4702-40d5-bf35-5220b47e78c9"
      },
      "outputs": [
        {
          "data": {
            "text/html": [
              "<div>\n",
              "<style scoped>\n",
              "    .dataframe tbody tr th:only-of-type {\n",
              "        vertical-align: middle;\n",
              "    }\n",
              "\n",
              "    .dataframe tbody tr th {\n",
              "        vertical-align: top;\n",
              "    }\n",
              "\n",
              "    .dataframe thead th {\n",
              "        text-align: right;\n",
              "    }\n",
              "</style>\n",
              "<table border=\"1\" class=\"dataframe\">\n",
              "  <thead>\n",
              "    <tr style=\"text-align: right;\">\n",
              "      <th></th>\n",
              "      <th>Ciudades</th>\n",
              "      <th>Finales</th>\n",
              "      <th>Estadios</th>\n",
              "    </tr>\n",
              "  </thead>\n",
              "  <tbody>\n",
              "    <tr>\n",
              "      <th>0</th>\n",
              "      <td>Italia</td>\n",
              "      <td>9</td>\n",
              "      <td>Estadio de San Siro (4), Estadio Olímpico (4),...</td>\n",
              "    </tr>\n",
              "    <tr>\n",
              "      <th>1</th>\n",
              "      <td>Inglaterra</td>\n",
              "      <td>8</td>\n",
              "      <td>Estadio de Wembley (1923) (5), Estadio de Wemb...</td>\n",
              "    </tr>\n",
              "    <tr>\n",
              "      <th>2</th>\n",
              "      <td>Alemania</td>\n",
              "      <td>8</td>\n",
              "      <td>Estadio Olímpico (3), Neckarstadion (2), Arena...</td>\n",
              "    </tr>\n",
              "    <tr>\n",
              "      <th>3</th>\n",
              "      <td>España</td>\n",
              "      <td>8</td>\n",
              "      <td>Estadio Santiago Bernabéu (4), Camp Nou (2), E...</td>\n",
              "    </tr>\n",
              "    <tr>\n",
              "      <th>4</th>\n",
              "      <td>Francia</td>\n",
              "      <td>6</td>\n",
              "      <td>Parque de los Príncipes (3), Estadio de Franci...</td>\n",
              "    </tr>\n",
              "  </tbody>\n",
              "</table>\n",
              "</div>"
            ],
            "text/plain": [
              "     Ciudades  Finales                                           Estadios\n",
              "0      Italia        9  Estadio de San Siro (4), Estadio Olímpico (4),...\n",
              "1  Inglaterra        8  Estadio de Wembley (1923) (5), Estadio de Wemb...\n",
              "2    Alemania        8  Estadio Olímpico (3), Neckarstadion (2), Arena...\n",
              "3      España        8  Estadio Santiago Bernabéu (4), Camp Nou (2), E...\n",
              "4     Francia        6  Parque de los Príncipes (3), Estadio de Franci..."
            ]
          },
          "execution_count": 10,
          "metadata": {},
          "output_type": "execute_result"
        }
      ],
      "source": [
        "tablas_html[2].head()"
      ]
    },
    {
      "cell_type": "code",
      "execution_count": null,
      "id": "8faf35a4-2779-415f-81b8-61a360d38aa0",
      "metadata": {
        "id": "8faf35a4-2779-415f-81b8-61a360d38aa0"
      },
      "outputs": [],
      "source": [
        "url = 'https://es.wikipedia.org/wiki/Anexo:Finales_de_la_Copa_Mundial_de_F%C3%BAtbol'\n",
        "tablas_html = pd.read_html(url)"
      ]
    },
    {
      "cell_type": "code",
      "execution_count": null,
      "id": "03377844-9d03-496d-811e-6119a6914c70",
      "metadata": {
        "id": "03377844-9d03-496d-811e-6119a6914c70",
        "outputId": "41d1f64a-5bdc-49e8-8618-fc1d15c00b82"
      },
      "outputs": [
        {
          "name": "stdout",
          "output_type": "stream",
          "text": [
            "1\n"
          ]
        }
      ],
      "source": [
        "print(len(tablas_html))"
      ]
    },
    {
      "cell_type": "code",
      "execution_count": null,
      "id": "a8f0b119-65c3-403c-84d3-351dd15c14d7",
      "metadata": {
        "id": "a8f0b119-65c3-403c-84d3-351dd15c14d7",
        "outputId": "e5ae4922-1d3d-43fa-9f45-317331009e70"
      },
      "outputs": [
        {
          "name": "stdout",
          "output_type": "stream",
          "text": [
            "<class 'list'>\n"
          ]
        }
      ],
      "source": [
        "print(type(tablas_html))"
      ]
    },
    {
      "cell_type": "code",
      "execution_count": null,
      "id": "a0864d63-bc32-4dcb-a0be-20b0bc5354ef",
      "metadata": {
        "id": "a0864d63-bc32-4dcb-a0be-20b0bc5354ef",
        "outputId": "e5529223-43ef-4703-c939-cc9cbcaae205"
      },
      "outputs": [
        {
          "data": {
            "text/html": [
              "<div>\n",
              "<style scoped>\n",
              "    .dataframe tbody tr th:only-of-type {\n",
              "        vertical-align: middle;\n",
              "    }\n",
              "\n",
              "    .dataframe tbody tr th {\n",
              "        vertical-align: top;\n",
              "    }\n",
              "\n",
              "    .dataframe thead th {\n",
              "        text-align: right;\n",
              "    }\n",
              "</style>\n",
              "<table border=\"1\" class=\"dataframe\">\n",
              "  <thead>\n",
              "    <tr style=\"text-align: right;\">\n",
              "      <th></th>\n",
              "      <th>Fecha</th>\n",
              "      <th>Campeón</th>\n",
              "      <th>Resultado</th>\n",
              "      <th>Subcampeón</th>\n",
              "      <th>Estadio</th>\n",
              "      <th>Espectadores</th>\n",
              "      <th>Localización</th>\n",
              "      <th>Notas</th>\n",
              "    </tr>\n",
              "  </thead>\n",
              "  <tbody>\n",
              "    <tr>\n",
              "      <th>0</th>\n",
              "      <td>30-07-1930</td>\n",
              "      <td>Uruguay</td>\n",
              "      <td>4:2</td>\n",
              "      <td>Argentina</td>\n",
              "      <td>Estadio Centenario</td>\n",
              "      <td>68 346</td>\n",
              "      <td>Montevideo</td>\n",
              "      <td>[4]​[5]​</td>\n",
              "    </tr>\n",
              "    <tr>\n",
              "      <th>1</th>\n",
              "      <td>10-06-1934</td>\n",
              "      <td>Italia</td>\n",
              "      <td>2:1 (pr.)</td>\n",
              "      <td>Checoslovaquia</td>\n",
              "      <td>Estadio Nacional del PNF</td>\n",
              "      <td>50 000</td>\n",
              "      <td>Roma</td>\n",
              "      <td>[6]​[7]​</td>\n",
              "    </tr>\n",
              "    <tr>\n",
              "      <th>2</th>\n",
              "      <td>19-06-1938</td>\n",
              "      <td>Italia</td>\n",
              "      <td>4:2</td>\n",
              "      <td>Hungría</td>\n",
              "      <td>Stade Olympique</td>\n",
              "      <td>45 124</td>\n",
              "      <td>Colombes</td>\n",
              "      <td>[8]​[9]​</td>\n",
              "    </tr>\n",
              "    <tr>\n",
              "      <th>3</th>\n",
              "      <td>16-07-1950</td>\n",
              "      <td>Uruguay</td>\n",
              "      <td>2:1</td>\n",
              "      <td>Brasil</td>\n",
              "      <td>Estadio Maracaná</td>\n",
              "      <td>199 150</td>\n",
              "      <td>Río de Janeiro</td>\n",
              "      <td>[10]​[11]​</td>\n",
              "    </tr>\n",
              "    <tr>\n",
              "      <th>4</th>\n",
              "      <td>04-07-1954</td>\n",
              "      <td>Alemania Federal</td>\n",
              "      <td>3:2</td>\n",
              "      <td>Hungría</td>\n",
              "      <td>Wankdorfstadion</td>\n",
              "      <td>60 000</td>\n",
              "      <td>Berna</td>\n",
              "      <td>[12]​[13]​</td>\n",
              "    </tr>\n",
              "  </tbody>\n",
              "</table>\n",
              "</div>"
            ],
            "text/plain": [
              "        Fecha           Campeón  Resultado      Subcampeón  \\\n",
              "0  30-07-1930           Uruguay        4:2       Argentina   \n",
              "1  10-06-1934            Italia  2:1 (pr.)  Checoslovaquia   \n",
              "2  19-06-1938            Italia        4:2         Hungría   \n",
              "3  16-07-1950           Uruguay        2:1          Brasil   \n",
              "4  04-07-1954  Alemania Federal        3:2         Hungría   \n",
              "\n",
              "                    Estadio Espectadores    Localización       Notas  \n",
              "0        Estadio Centenario       68 346      Montevideo    [4]​[5]​  \n",
              "1  Estadio Nacional del PNF       50 000            Roma    [6]​[7]​  \n",
              "2           Stade Olympique       45 124        Colombes    [8]​[9]​  \n",
              "3          Estadio Maracaná      199 150  Río de Janeiro  [10]​[11]​  \n",
              "4           Wankdorfstadion       60 000           Berna  [12]​[13]​  "
            ]
          },
          "execution_count": 14,
          "metadata": {},
          "output_type": "execute_result"
        }
      ],
      "source": [
        "tablas_html[0].head()"
      ]
    },
    {
      "cell_type": "code",
      "execution_count": null,
      "id": "81f70e29-f518-4717-bb12-412f5ab97c22",
      "metadata": {
        "id": "81f70e29-f518-4717-bb12-412f5ab97c22"
      },
      "outputs": [],
      "source": [
        ""
      ]
    }
  ],
  "metadata": {
    "kernelspec": {
      "display_name": "Python 3 (ipykernel)",
      "language": "python",
      "name": "python3"
    },
    "language_info": {
      "codemirror_mode": {
        "name": "ipython",
        "version": 3
      },
      "file_extension": ".py",
      "mimetype": "text/x-python",
      "name": "python",
      "nbconvert_exporter": "python",
      "pygments_lexer": "ipython3",
      "version": "3.9.7"
    },
    "colab": {
      "name": "pandas 3 Lecturas de Tablas en HTML.ipynb",
      "provenance": []
    }
  },
  "nbformat": 4,
  "nbformat_minor": 5
}