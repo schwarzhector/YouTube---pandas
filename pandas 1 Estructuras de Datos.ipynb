{
  "cells": [
    {
      "cell_type": "markdown",
      "source": [
        "### Código utilizado en el video:\n",
        "https://youtu.be/W9FBM1XqA-g"
      ],
      "metadata": {
        "id": "l-ohX1sPQbNb"
      },
      "id": "l-ohX1sPQbNb"
    },
    {
      "cell_type": "markdown",
      "id": "af976274-5798-49d5-8f0f-489d4dfd826d",
      "metadata": {
        "id": "af976274-5798-49d5-8f0f-489d4dfd826d"
      },
      "source": [
        "# <center>Series y Dataframes</center>"
      ]
    },
    {
      "cell_type": "markdown",
      "id": "ce737674-a251-4e98-9dd7-39da21bf6782",
      "metadata": {
        "id": "ce737674-a251-4e98-9dd7-39da21bf6782"
      },
      "source": [
        "# Series\n",
        "* Datos unidimensionales\n",
        "* Índice + valores"
      ]
    },
    {
      "cell_type": "code",
      "execution_count": null,
      "id": "0917e27b-46a6-42b5-bec6-abeff2340844",
      "metadata": {
        "id": "0917e27b-46a6-42b5-bec6-abeff2340844"
      },
      "outputs": [],
      "source": [
        "import pandas as pd"
      ]
    },
    {
      "cell_type": "code",
      "execution_count": null,
      "id": "9f5108d0-9f6e-4c2f-8c18-646e95956ad0",
      "metadata": {
        "id": "9f5108d0-9f6e-4c2f-8c18-646e95956ad0",
        "outputId": "b236ec15-7b35-4e8b-d812-c04b9b80e7d9"
      },
      "outputs": [
        {
          "name": "stdout",
          "output_type": "stream",
          "text": [
            "0    14\n",
            "1     7\n",
            "2     6\n",
            "3     6\n",
            "4     5\n",
            "5     4\n",
            "Name: Finales de Champions League Ganadas, dtype: int64\n"
          ]
        }
      ],
      "source": [
        "series1 = pd.Series([14,7,6,6,5,4],\n",
        "                             name=\"Finales de Champions League Ganadas\"\n",
        "                            )\n",
        "print(series1)"
      ]
    },
    {
      "cell_type": "code",
      "execution_count": null,
      "id": "19250f1c-7a16-4954-bdc4-bf92142892a9",
      "metadata": {
        "id": "19250f1c-7a16-4954-bdc4-bf92142892a9",
        "outputId": "f0a93ddf-ed88-4385-8329-5c61d955784b"
      },
      "outputs": [
        {
          "name": "stdout",
          "output_type": "stream",
          "text": [
            "<class 'pandas.core.series.Series'>\n"
          ]
        }
      ],
      "source": [
        "print(type(series1))"
      ]
    },
    {
      "cell_type": "code",
      "execution_count": null,
      "id": "9597d5fe-13a2-4c8e-a2f7-cbe3539bd55b",
      "metadata": {
        "id": "9597d5fe-13a2-4c8e-a2f7-cbe3539bd55b",
        "outputId": "60cadabd-8790-4b7c-e5e3-2ef7942c3fc2"
      },
      "outputs": [
        {
          "name": "stdout",
          "output_type": "stream",
          "text": [
            "Real Madrid      14\n",
            "A.C. Milan        7\n",
            "Bayern Munich     6\n",
            "Liverpool         6\n",
            "Barcelona         5\n",
            "Ajax              4\n",
            "Name: Finales Ganadas, dtype: int64\n"
          ]
        }
      ],
      "source": [
        "series2 = pd.Series([14,7,6,6,5,4],\n",
        "                             name=\"Finales Ganadas\",\n",
        "                             index=[\"Real Madrid\",\"A.C. Milan\",\"Bayern Munich\",\"Liverpool\",\"Barcelona\", \"Ajax\"]\n",
        "                            )\n",
        "print(series2)"
      ]
    },
    {
      "cell_type": "code",
      "execution_count": null,
      "id": "2b79b158-f088-46b6-b622-d88154afad1e",
      "metadata": {
        "id": "2b79b158-f088-46b6-b622-d88154afad1e",
        "outputId": "646dedb9-5bb2-49ff-e89f-17bf85dc2dbd"
      },
      "outputs": [
        {
          "name": "stdout",
          "output_type": "stream",
          "text": [
            "0      1974\n",
            "1    1975.0\n",
            "2      1976\n",
            "3      2001\n",
            "4      2013\n",
            "5      2020\n",
            "Name: Años cuando el Bayern Munich salió campeón, dtype: object\n"
          ]
        }
      ],
      "source": [
        "series3 = pd.Series([1974, 1975.0, 1976, '2001', 2013, '2020'],\n",
        "                    name=\"Años cuando el Bayern Munich salió campeón\"\n",
        "                            )\n",
        "print(series3)"
      ]
    },
    {
      "cell_type": "code",
      "execution_count": null,
      "id": "f99ce0ad-b2e1-491e-b8dc-6d5ddbfa4973",
      "metadata": {
        "id": "f99ce0ad-b2e1-491e-b8dc-6d5ddbfa4973",
        "outputId": "1736a900-22cc-4a51-a6ac-232833ed1d0b"
      },
      "outputs": [
        {
          "name": "stdout",
          "output_type": "stream",
          "text": [
            "1974    Atlético de Madrid\n",
            "1975          Leeds United\n",
            "1976         Saint-Étienne\n",
            "2001              Valencia\n",
            "2013     Borussia Dortmund\n",
            "2020                   PSG\n",
            "2020                   PSG\n",
            "Name: Subcampeón cuando el Bayern Munich salió campeón, dtype: object\n"
          ]
        }
      ],
      "source": [
        "series4 = pd.Series(['Atlético de Madrid','Leeds United','Saint-Étienne','Valencia','Borussia Dortmund','PSG','PSG'],\n",
        "                    name=\"Subcampeón cuando el Bayern Munich salió campeón\",\n",
        "                    index=['1974', '1975', '1976', '2001', '2013', '2020','2020']\n",
        "                            )\n",
        "print(series4)"
      ]
    },
    {
      "cell_type": "markdown",
      "id": "0fa3c6c0-414a-4b01-8b81-9d268f4d0d55",
      "metadata": {
        "id": "0fa3c6c0-414a-4b01-8b81-9d268f4d0d55"
      },
      "source": [
        "# Dataframes\n",
        "* Dos dimensiones\n",
        "* Cada columna es un objeto Series de pandas"
      ]
    },
    {
      "cell_type": "code",
      "execution_count": null,
      "id": "f370e043-0e28-45aa-b83f-71a5a9067892",
      "metadata": {
        "id": "f370e043-0e28-45aa-b83f-71a5a9067892",
        "outputId": "9e4fa46e-0b81-407c-b5ab-f91fecc9e152"
      },
      "outputs": [
        {
          "name": "stdout",
          "output_type": "stream",
          "text": [
            "          Equipo          País  Cantidad de Finales Ganadas\n",
            "0    Real Madrid        España                           14\n",
            "1     A.C. Milan        Italia                            7\n",
            "2  Bayern Munich      Alemania                            6\n",
            "3      Liverpool   Reino Unido                            6\n",
            "4      Barcelona        España                            5\n",
            "5           Ajax  Países Bajos                            4\n"
          ]
        }
      ],
      "source": [
        "dataframe1 = pd.DataFrame( \n",
        "                            {\n",
        "                            'Equipo':[\"Real Madrid\",\"A.C. Milan\",\"Bayern Munich\",\"Liverpool\",\"Barcelona\", \"Ajax\"],                          \n",
        "                            'País':['España','Italia','Alemania','Reino Unido','España','Países Bajos'],\n",
        "                            'Cantidad de Finales Ganadas':[14,7,6,6,5,4]\n",
        "                            }\n",
        "                         )\n",
        "print(dataframe1)"
      ]
    },
    {
      "cell_type": "code",
      "execution_count": null,
      "id": "2a1222e9-d5a4-4755-939b-8159468c2c54",
      "metadata": {
        "id": "2a1222e9-d5a4-4755-939b-8159468c2c54",
        "outputId": "8ac0e77b-7069-405f-89fe-f8caeb2120cf"
      },
      "outputs": [
        {
          "name": "stdout",
          "output_type": "stream",
          "text": [
            "          Sub-Campeón         País   Año\n",
            "0  Atlético de Madrid       España  1974\n",
            "1        Leeds United  Reino Unido  1975\n",
            "2       Saint-Étienne      Francia  1976\n",
            "3            Valencia       España  2001\n",
            "4   Borussia Dortmund     Alemania  2013\n",
            "5                 PSG      Francia  2020\n"
          ]
        }
      ],
      "source": [
        "dataframe2 = pd.DataFrame( \n",
        "                          {\n",
        "                           'Sub-Campeón':['Atlético de Madrid','Leeds United','Saint-Étienne','Valencia','Borussia Dortmund','PSG'],                   \n",
        "                           'País':['España','Reino Unido','Francia','España','Alemania','Francia'],\n",
        "                           'Año':['1974', '1975', '1976', '2001', '2013', '2020']\n",
        "                          }\n",
        "                          )\n",
        "print(dataframe2)"
      ]
    },
    {
      "cell_type": "code",
      "execution_count": null,
      "id": "b19da224-7187-41c1-85ed-11f5e77c61b6",
      "metadata": {
        "id": "b19da224-7187-41c1-85ed-11f5e77c61b6"
      },
      "outputs": [],
      "source": [
        ""
      ]
    }
  ],
  "metadata": {
    "kernelspec": {
      "display_name": "Python 3 (ipykernel)",
      "language": "python",
      "name": "python3"
    },
    "language_info": {
      "codemirror_mode": {
        "name": "ipython",
        "version": 3
      },
      "file_extension": ".py",
      "mimetype": "text/x-python",
      "name": "python",
      "nbconvert_exporter": "python",
      "pygments_lexer": "ipython3",
      "version": "3.9.7"
    },
    "colab": {
      "name": "pandas 1 Estructuras de Datos.ipynb",
      "provenance": []
    }
  },
  "nbformat": 4,
  "nbformat_minor": 5
}