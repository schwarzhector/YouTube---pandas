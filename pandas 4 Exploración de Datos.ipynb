{
  "cells": [
    {
      "cell_type": "markdown",
      "source": [
        "### Código utilizado en el video:\n",
        "https://youtu.be/JSfzdYLqaAE"
      ],
      "metadata": {
        "id": "GIMdcpl0Qtob"
      },
      "id": "GIMdcpl0Qtob"
    },
    {
      "cell_type": "code",
      "execution_count": null,
      "id": "20dfd099-7639-4d18-b641-51ca962ac2ab",
      "metadata": {
        "id": "20dfd099-7639-4d18-b641-51ca962ac2ab"
      },
      "outputs": [],
      "source": [
        "import pandas as pd"
      ]
    },
    {
      "cell_type": "code",
      "execution_count": null,
      "id": "7f63c14a-2dd6-4f0a-835d-e2c1f1738ab2",
      "metadata": {
        "id": "7f63c14a-2dd6-4f0a-835d-e2c1f1738ab2",
        "outputId": "4808b09f-8b6a-4188-c28b-cdce3612d8a8"
      },
      "outputs": [
        {
          "name": "stdout",
          "output_type": "stream",
          "text": [
            "                   Close       Volume\n",
            "Date                                 \n",
            "2019-07-14  10256.058594  22486000001\n",
            "2019-07-15  10895.089844  25384047207\n",
            "2019-07-16   9477.641602  24151199070\n",
            "2019-07-17   9693.802734  24569921549\n",
            "2019-07-18  10666.482422  25187024648\n",
            "...                  ...          ...\n",
            "2022-07-10  20860.449219  28688807249\n",
            "2022-07-11  19970.556641  24150249025\n",
            "2022-07-12  19323.914063  25810220018\n",
            "2022-07-13  20212.074219  33042430345\n",
            "2022-07-14  20569.919922  31158743333\n",
            "\n",
            "[1097 rows x 2 columns]\n"
          ]
        }
      ],
      "source": [
        "bitcoin_df = pd.read_csv('BTC-USD.csv',usecols = ['Date','Close','Volume'], index_col='Date')\n",
        "print(bitcoin_df)"
      ]
    },
    {
      "cell_type": "code",
      "execution_count": null,
      "id": "63d6ea56-37df-4e9a-b77e-173f48f86e98",
      "metadata": {
        "id": "63d6ea56-37df-4e9a-b77e-173f48f86e98",
        "outputId": "49372ac9-b775-4870-f94e-ea7e316a6244"
      },
      "outputs": [
        {
          "data": {
            "text/html": [
              "<div>\n",
              "<style scoped>\n",
              "    .dataframe tbody tr th:only-of-type {\n",
              "        vertical-align: middle;\n",
              "    }\n",
              "\n",
              "    .dataframe tbody tr th {\n",
              "        vertical-align: top;\n",
              "    }\n",
              "\n",
              "    .dataframe thead th {\n",
              "        text-align: right;\n",
              "    }\n",
              "</style>\n",
              "<table border=\"1\" class=\"dataframe\">\n",
              "  <thead>\n",
              "    <tr style=\"text-align: right;\">\n",
              "      <th></th>\n",
              "      <th>Close</th>\n",
              "      <th>Volume</th>\n",
              "    </tr>\n",
              "    <tr>\n",
              "      <th>Date</th>\n",
              "      <th></th>\n",
              "      <th></th>\n",
              "    </tr>\n",
              "  </thead>\n",
              "  <tbody>\n",
              "    <tr>\n",
              "      <th>2019-07-14</th>\n",
              "      <td>10256.058594</td>\n",
              "      <td>22486000001</td>\n",
              "    </tr>\n",
              "    <tr>\n",
              "      <th>2019-07-15</th>\n",
              "      <td>10895.089844</td>\n",
              "      <td>25384047207</td>\n",
              "    </tr>\n",
              "    <tr>\n",
              "      <th>2019-07-16</th>\n",
              "      <td>9477.641602</td>\n",
              "      <td>24151199070</td>\n",
              "    </tr>\n",
              "    <tr>\n",
              "      <th>2019-07-17</th>\n",
              "      <td>9693.802734</td>\n",
              "      <td>24569921549</td>\n",
              "    </tr>\n",
              "    <tr>\n",
              "      <th>2019-07-18</th>\n",
              "      <td>10666.482422</td>\n",
              "      <td>25187024648</td>\n",
              "    </tr>\n",
              "  </tbody>\n",
              "</table>\n",
              "</div>"
            ],
            "text/plain": [
              "                   Close       Volume\n",
              "Date                                 \n",
              "2019-07-14  10256.058594  22486000001\n",
              "2019-07-15  10895.089844  25384047207\n",
              "2019-07-16   9477.641602  24151199070\n",
              "2019-07-17   9693.802734  24569921549\n",
              "2019-07-18  10666.482422  25187024648"
            ]
          },
          "execution_count": 3,
          "metadata": {},
          "output_type": "execute_result"
        }
      ],
      "source": [
        "bitcoin_df.head()"
      ]
    },
    {
      "cell_type": "code",
      "execution_count": null,
      "id": "31618bd4-eac8-4910-961a-42b3e2a05ef7",
      "metadata": {
        "id": "31618bd4-eac8-4910-961a-42b3e2a05ef7",
        "outputId": "b6164e56-0492-4996-cea1-fa2de2cb0f35"
      },
      "outputs": [
        {
          "data": {
            "text/html": [
              "<div>\n",
              "<style scoped>\n",
              "    .dataframe tbody tr th:only-of-type {\n",
              "        vertical-align: middle;\n",
              "    }\n",
              "\n",
              "    .dataframe tbody tr th {\n",
              "        vertical-align: top;\n",
              "    }\n",
              "\n",
              "    .dataframe thead th {\n",
              "        text-align: right;\n",
              "    }\n",
              "</style>\n",
              "<table border=\"1\" class=\"dataframe\">\n",
              "  <thead>\n",
              "    <tr style=\"text-align: right;\">\n",
              "      <th></th>\n",
              "      <th>Close</th>\n",
              "      <th>Volume</th>\n",
              "    </tr>\n",
              "    <tr>\n",
              "      <th>Date</th>\n",
              "      <th></th>\n",
              "      <th></th>\n",
              "    </tr>\n",
              "  </thead>\n",
              "  <tbody>\n",
              "    <tr>\n",
              "      <th>2019-07-14</th>\n",
              "      <td>10256.058594</td>\n",
              "      <td>22486000001</td>\n",
              "    </tr>\n",
              "    <tr>\n",
              "      <th>2019-07-15</th>\n",
              "      <td>10895.089844</td>\n",
              "      <td>25384047207</td>\n",
              "    </tr>\n",
              "    <tr>\n",
              "      <th>2019-07-16</th>\n",
              "      <td>9477.641602</td>\n",
              "      <td>24151199070</td>\n",
              "    </tr>\n",
              "    <tr>\n",
              "      <th>2019-07-17</th>\n",
              "      <td>9693.802734</td>\n",
              "      <td>24569921549</td>\n",
              "    </tr>\n",
              "    <tr>\n",
              "      <th>2019-07-18</th>\n",
              "      <td>10666.482422</td>\n",
              "      <td>25187024648</td>\n",
              "    </tr>\n",
              "    <tr>\n",
              "      <th>2019-07-19</th>\n",
              "      <td>10530.732422</td>\n",
              "      <td>20727426310</td>\n",
              "    </tr>\n",
              "    <tr>\n",
              "      <th>2019-07-20</th>\n",
              "      <td>10767.139648</td>\n",
              "      <td>20206615155</td>\n",
              "    </tr>\n",
              "    <tr>\n",
              "      <th>2019-07-21</th>\n",
              "      <td>10599.105469</td>\n",
              "      <td>17130580467</td>\n",
              "    </tr>\n",
              "  </tbody>\n",
              "</table>\n",
              "</div>"
            ],
            "text/plain": [
              "                   Close       Volume\n",
              "Date                                 \n",
              "2019-07-14  10256.058594  22486000001\n",
              "2019-07-15  10895.089844  25384047207\n",
              "2019-07-16   9477.641602  24151199070\n",
              "2019-07-17   9693.802734  24569921549\n",
              "2019-07-18  10666.482422  25187024648\n",
              "2019-07-19  10530.732422  20727426310\n",
              "2019-07-20  10767.139648  20206615155\n",
              "2019-07-21  10599.105469  17130580467"
            ]
          },
          "execution_count": 4,
          "metadata": {},
          "output_type": "execute_result"
        }
      ],
      "source": [
        "bitcoin_df.head(8)"
      ]
    },
    {
      "cell_type": "code",
      "execution_count": null,
      "id": "84afa07a-5474-4e8c-82d3-7d556b8cfe6f",
      "metadata": {
        "id": "84afa07a-5474-4e8c-82d3-7d556b8cfe6f",
        "outputId": "56a4948b-28fa-4480-bdc0-6d5ca9fe0638"
      },
      "outputs": [
        {
          "data": {
            "text/html": [
              "<div>\n",
              "<style scoped>\n",
              "    .dataframe tbody tr th:only-of-type {\n",
              "        vertical-align: middle;\n",
              "    }\n",
              "\n",
              "    .dataframe tbody tr th {\n",
              "        vertical-align: top;\n",
              "    }\n",
              "\n",
              "    .dataframe thead th {\n",
              "        text-align: right;\n",
              "    }\n",
              "</style>\n",
              "<table border=\"1\" class=\"dataframe\">\n",
              "  <thead>\n",
              "    <tr style=\"text-align: right;\">\n",
              "      <th></th>\n",
              "      <th>Close</th>\n",
              "      <th>Volume</th>\n",
              "    </tr>\n",
              "    <tr>\n",
              "      <th>Date</th>\n",
              "      <th></th>\n",
              "      <th></th>\n",
              "    </tr>\n",
              "  </thead>\n",
              "  <tbody>\n",
              "    <tr>\n",
              "      <th>2022-07-10</th>\n",
              "      <td>20860.449219</td>\n",
              "      <td>28688807249</td>\n",
              "    </tr>\n",
              "    <tr>\n",
              "      <th>2022-07-11</th>\n",
              "      <td>19970.556641</td>\n",
              "      <td>24150249025</td>\n",
              "    </tr>\n",
              "    <tr>\n",
              "      <th>2022-07-12</th>\n",
              "      <td>19323.914063</td>\n",
              "      <td>25810220018</td>\n",
              "    </tr>\n",
              "    <tr>\n",
              "      <th>2022-07-13</th>\n",
              "      <td>20212.074219</td>\n",
              "      <td>33042430345</td>\n",
              "    </tr>\n",
              "    <tr>\n",
              "      <th>2022-07-14</th>\n",
              "      <td>20569.919922</td>\n",
              "      <td>31158743333</td>\n",
              "    </tr>\n",
              "  </tbody>\n",
              "</table>\n",
              "</div>"
            ],
            "text/plain": [
              "                   Close       Volume\n",
              "Date                                 \n",
              "2022-07-10  20860.449219  28688807249\n",
              "2022-07-11  19970.556641  24150249025\n",
              "2022-07-12  19323.914063  25810220018\n",
              "2022-07-13  20212.074219  33042430345\n",
              "2022-07-14  20569.919922  31158743333"
            ]
          },
          "execution_count": 5,
          "metadata": {},
          "output_type": "execute_result"
        }
      ],
      "source": [
        "bitcoin_df.tail()"
      ]
    },
    {
      "cell_type": "code",
      "execution_count": null,
      "id": "b347e49c-a50d-4a00-9f85-84eef40c6ea3",
      "metadata": {
        "id": "b347e49c-a50d-4a00-9f85-84eef40c6ea3",
        "outputId": "5feedfd3-c119-44ce-82de-5298dd8e2081"
      },
      "outputs": [
        {
          "data": {
            "text/html": [
              "<div>\n",
              "<style scoped>\n",
              "    .dataframe tbody tr th:only-of-type {\n",
              "        vertical-align: middle;\n",
              "    }\n",
              "\n",
              "    .dataframe tbody tr th {\n",
              "        vertical-align: top;\n",
              "    }\n",
              "\n",
              "    .dataframe thead th {\n",
              "        text-align: right;\n",
              "    }\n",
              "</style>\n",
              "<table border=\"1\" class=\"dataframe\">\n",
              "  <thead>\n",
              "    <tr style=\"text-align: right;\">\n",
              "      <th></th>\n",
              "      <th>Close</th>\n",
              "      <th>Volume</th>\n",
              "    </tr>\n",
              "    <tr>\n",
              "      <th>Date</th>\n",
              "      <th></th>\n",
              "      <th></th>\n",
              "    </tr>\n",
              "  </thead>\n",
              "  <tbody>\n",
              "    <tr>\n",
              "      <th>2022-07-08</th>\n",
              "      <td>21731.117188</td>\n",
              "      <td>49899834488</td>\n",
              "    </tr>\n",
              "    <tr>\n",
              "      <th>2022-07-09</th>\n",
              "      <td>21592.207031</td>\n",
              "      <td>29641127858</td>\n",
              "    </tr>\n",
              "    <tr>\n",
              "      <th>2022-07-10</th>\n",
              "      <td>20860.449219</td>\n",
              "      <td>28688807249</td>\n",
              "    </tr>\n",
              "    <tr>\n",
              "      <th>2022-07-11</th>\n",
              "      <td>19970.556641</td>\n",
              "      <td>24150249025</td>\n",
              "    </tr>\n",
              "    <tr>\n",
              "      <th>2022-07-12</th>\n",
              "      <td>19323.914063</td>\n",
              "      <td>25810220018</td>\n",
              "    </tr>\n",
              "    <tr>\n",
              "      <th>2022-07-13</th>\n",
              "      <td>20212.074219</td>\n",
              "      <td>33042430345</td>\n",
              "    </tr>\n",
              "    <tr>\n",
              "      <th>2022-07-14</th>\n",
              "      <td>20569.919922</td>\n",
              "      <td>31158743333</td>\n",
              "    </tr>\n",
              "  </tbody>\n",
              "</table>\n",
              "</div>"
            ],
            "text/plain": [
              "                   Close       Volume\n",
              "Date                                 \n",
              "2022-07-08  21731.117188  49899834488\n",
              "2022-07-09  21592.207031  29641127858\n",
              "2022-07-10  20860.449219  28688807249\n",
              "2022-07-11  19970.556641  24150249025\n",
              "2022-07-12  19323.914063  25810220018\n",
              "2022-07-13  20212.074219  33042430345\n",
              "2022-07-14  20569.919922  31158743333"
            ]
          },
          "execution_count": 6,
          "metadata": {},
          "output_type": "execute_result"
        }
      ],
      "source": [
        "bitcoin_df.tail(7)"
      ]
    },
    {
      "cell_type": "code",
      "execution_count": null,
      "id": "99ce4c1a-7c36-43ee-94c3-75f1e2edd31d",
      "metadata": {
        "id": "99ce4c1a-7c36-43ee-94c3-75f1e2edd31d",
        "outputId": "77d95a10-21ef-40d0-a7ed-cf7d0a0cdf9c"
      },
      "outputs": [
        {
          "data": {
            "text/plain": [
              "(1097, 2)"
            ]
          },
          "execution_count": 7,
          "metadata": {},
          "output_type": "execute_result"
        }
      ],
      "source": [
        "bitcoin_df.shape"
      ]
    },
    {
      "cell_type": "code",
      "execution_count": null,
      "id": "eff822f9-56b7-4351-ac90-f67a5b87b8c7",
      "metadata": {
        "id": "eff822f9-56b7-4351-ac90-f67a5b87b8c7",
        "outputId": "3bc4314e-108f-4921-919e-713bbdec676b"
      },
      "outputs": [
        {
          "data": {
            "text/plain": [
              "2194"
            ]
          },
          "execution_count": 8,
          "metadata": {},
          "output_type": "execute_result"
        }
      ],
      "source": [
        "bitcoin_df.size"
      ]
    },
    {
      "cell_type": "code",
      "execution_count": null,
      "id": "16ca4c74-3324-4afe-8683-38df87fc4843",
      "metadata": {
        "id": "16ca4c74-3324-4afe-8683-38df87fc4843",
        "outputId": "eca894b7-2e58-4341-dbd1-a2ed92ddc5dd"
      },
      "outputs": [
        {
          "data": {
            "text/plain": [
              "Close     float64\n",
              "Volume      int64\n",
              "dtype: object"
            ]
          },
          "execution_count": 9,
          "metadata": {},
          "output_type": "execute_result"
        }
      ],
      "source": [
        "bitcoin_df.dtypes"
      ]
    },
    {
      "cell_type": "code",
      "execution_count": null,
      "id": "f4ff8c5f-62a6-49cb-b48d-e9efdfae0178",
      "metadata": {
        "id": "f4ff8c5f-62a6-49cb-b48d-e9efdfae0178",
        "outputId": "0072afca-0d3f-455d-e916-1ff7c86fe6a3"
      },
      "outputs": [
        {
          "name": "stdout",
          "output_type": "stream",
          "text": [
            "<class 'pandas.core.frame.DataFrame'>\n",
            "Index: 1097 entries, 2019-07-14 to 2022-07-14\n",
            "Data columns (total 2 columns):\n",
            " #   Column  Non-Null Count  Dtype  \n",
            "---  ------  --------------  -----  \n",
            " 0   Close   1097 non-null   float64\n",
            " 1   Volume  1097 non-null   int64  \n",
            "dtypes: float64(1), int64(1)\n",
            "memory usage: 25.7+ KB\n"
          ]
        }
      ],
      "source": [
        "bitcoin_df.info()"
      ]
    },
    {
      "cell_type": "code",
      "execution_count": null,
      "id": "c1139958-40c8-4db8-8ffa-8afda91794ce",
      "metadata": {
        "id": "c1139958-40c8-4db8-8ffa-8afda91794ce",
        "outputId": "7f44ec98-09f8-44b4-f7f4-ae632bef6158"
      },
      "outputs": [
        {
          "data": {
            "text/plain": [
              "False"
            ]
          },
          "execution_count": 11,
          "metadata": {},
          "output_type": "execute_result"
        }
      ],
      "source": [
        "bitcoin_df.isnull().values.any()"
      ]
    },
    {
      "cell_type": "code",
      "execution_count": null,
      "id": "120a50d2-86d2-49b8-9316-68d236268932",
      "metadata": {
        "id": "120a50d2-86d2-49b8-9316-68d236268932",
        "outputId": "972bc9ef-31bc-40b7-f632-3061ee84773b"
      },
      "outputs": [
        {
          "data": {
            "text/plain": [
              "count     1097.000000\n",
              "mean     27242.660633\n",
              "std      18375.258693\n",
              "min       4970.788086\n",
              "25%       9608.475586\n",
              "50%      21592.207031\n",
              "75%      42892.957031\n",
              "max      67566.828125\n",
              "Name: Close, dtype: float64"
            ]
          },
          "execution_count": 12,
          "metadata": {},
          "output_type": "execute_result"
        }
      ],
      "source": [
        "bitcoin_df['Close'].describe()"
      ]
    },
    {
      "cell_type": "code",
      "execution_count": null,
      "id": "88123e4a-b4da-4ba5-a901-baf280abf298",
      "metadata": {
        "id": "88123e4a-b4da-4ba5-a901-baf280abf298",
        "outputId": "e7c396cf-39bf-4971-d189-36d81a0bc4b7"
      },
      "outputs": [
        {
          "data": {
            "text/plain": [
              "Index(['Close', 'Volume'], dtype='object')"
            ]
          },
          "execution_count": 13,
          "metadata": {},
          "output_type": "execute_result"
        }
      ],
      "source": [
        "bitcoin_df.columns"
      ]
    },
    {
      "cell_type": "code",
      "execution_count": null,
      "id": "9d7ff30a-6cd8-41ee-b1d4-55ef3eaabe86",
      "metadata": {
        "id": "9d7ff30a-6cd8-41ee-b1d4-55ef3eaabe86",
        "outputId": "ea2d950d-71ca-418e-e541-fe27697d3f55"
      },
      "outputs": [
        {
          "data": {
            "text/html": [
              "<div>\n",
              "<style scoped>\n",
              "    .dataframe tbody tr th:only-of-type {\n",
              "        vertical-align: middle;\n",
              "    }\n",
              "\n",
              "    .dataframe tbody tr th {\n",
              "        vertical-align: top;\n",
              "    }\n",
              "\n",
              "    .dataframe thead th {\n",
              "        text-align: right;\n",
              "    }\n",
              "</style>\n",
              "<table border=\"1\" class=\"dataframe\">\n",
              "  <thead>\n",
              "    <tr style=\"text-align: right;\">\n",
              "      <th></th>\n",
              "      <th>Close</th>\n",
              "      <th>Volume</th>\n",
              "    </tr>\n",
              "    <tr>\n",
              "      <th>Date</th>\n",
              "      <th></th>\n",
              "      <th></th>\n",
              "    </tr>\n",
              "  </thead>\n",
              "  <tbody>\n",
              "    <tr>\n",
              "      <th>2021-03-19</th>\n",
              "      <td>58346.652344</td>\n",
              "      <td>49063873786</td>\n",
              "    </tr>\n",
              "  </tbody>\n",
              "</table>\n",
              "</div>"
            ],
            "text/plain": [
              "                   Close       Volume\n",
              "Date                                 \n",
              "2021-03-19  58346.652344  49063873786"
            ]
          },
          "execution_count": 15,
          "metadata": {},
          "output_type": "execute_result"
        }
      ],
      "source": [
        "bitcoin_df.sample()"
      ]
    },
    {
      "cell_type": "code",
      "execution_count": null,
      "id": "23a9e2de-92f5-4752-a6e6-3f1cad098107",
      "metadata": {
        "id": "23a9e2de-92f5-4752-a6e6-3f1cad098107",
        "outputId": "4414377f-9a7c-4cc4-9b90-2dd31a8544b2"
      },
      "outputs": [
        {
          "data": {
            "text/plain": [
              "10256.058594"
            ]
          },
          "execution_count": 16,
          "metadata": {},
          "output_type": "execute_result"
        }
      ],
      "source": [
        "bitcoin_df.loc['2019-07-14']['Close']"
      ]
    },
    {
      "cell_type": "code",
      "execution_count": null,
      "id": "cc73e6e2-15b2-498c-ad24-c622c7b2a4be",
      "metadata": {
        "id": "cc73e6e2-15b2-498c-ad24-c622c7b2a4be",
        "outputId": "13420fa3-995a-4b88-f0fe-7b08fa331762"
      },
      "outputs": [
        {
          "data": {
            "text/plain": [
              "20569.919922"
            ]
          },
          "execution_count": 17,
          "metadata": {},
          "output_type": "execute_result"
        }
      ],
      "source": [
        "bitcoin_df.loc['2022-07-14']['Close']"
      ]
    },
    {
      "cell_type": "code",
      "execution_count": null,
      "id": "61101a04-8c7a-4287-aaa8-7142f5075cee",
      "metadata": {
        "id": "61101a04-8c7a-4287-aaa8-7142f5075cee",
        "outputId": "7682e1b2-c658-4f77-c4ba-678ed2925ade"
      },
      "outputs": [
        {
          "data": {
            "text/plain": [
              "10256.058594"
            ]
          },
          "execution_count": 18,
          "metadata": {},
          "output_type": "execute_result"
        }
      ],
      "source": [
        "bitcoin_df.iloc[0]['Close']"
      ]
    },
    {
      "cell_type": "code",
      "execution_count": null,
      "id": "2a3a0734-a018-4678-a168-841b234d1e0d",
      "metadata": {
        "id": "2a3a0734-a018-4678-a168-841b234d1e0d",
        "outputId": "1a26598b-27cf-4590-9fee-26fe431621de"
      },
      "outputs": [
        {
          "data": {
            "text/plain": [
              "20569.919922"
            ]
          },
          "execution_count": 19,
          "metadata": {},
          "output_type": "execute_result"
        }
      ],
      "source": [
        "bitcoin_df.iloc[1096]['Close']"
      ]
    },
    {
      "cell_type": "code",
      "execution_count": null,
      "id": "1d603fb2-109e-4ad9-9c7b-f2bed553fa18",
      "metadata": {
        "id": "1d603fb2-109e-4ad9-9c7b-f2bed553fa18"
      },
      "outputs": [],
      "source": [
        ""
      ]
    }
  ],
  "metadata": {
    "kernelspec": {
      "display_name": "Python 3 (ipykernel)",
      "language": "python",
      "name": "python3"
    },
    "language_info": {
      "codemirror_mode": {
        "name": "ipython",
        "version": 3
      },
      "file_extension": ".py",
      "mimetype": "text/x-python",
      "name": "python",
      "nbconvert_exporter": "python",
      "pygments_lexer": "ipython3",
      "version": "3.9.7"
    },
    "colab": {
      "name": "pandas 4 Exploración de Datos.ipynb",
      "provenance": []
    }
  },
  "nbformat": 4,
  "nbformat_minor": 5
}